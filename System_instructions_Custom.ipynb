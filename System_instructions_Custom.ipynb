{
  "cells": [
    {
      "cell_type": "markdown",
      "metadata": {
        "id": "view-in-github",
        "colab_type": "text"
      },
      "source": [
        "<a href=\"https://colab.research.google.com/github/cfortune-ai/learning_resources/blob/main/System_instructions_Custom.ipynb\" target=\"_parent\"><img src=\"https://colab.research.google.com/assets/colab-badge.svg\" alt=\"Open In Colab\"/></a>"
      ]
    },
    {
      "cell_type": "markdown",
      "metadata": {
        "id": "Tce3stUlHN0L"
      },
      "source": [
        "##### Copyright 2024 Google LLC."
      ]
    },
    {
      "cell_type": "code",
      "execution_count": null,
      "metadata": {
        "cellView": "form",
        "id": "tuOe1ymfHZPu"
      },
      "outputs": [],
      "source": [
        "# @title Licensed under the Apache License, Version 2.0 (the \"License\");\n",
        "# you may not use this file except in compliance with the License.\n",
        "# You may obtain a copy of the License at\n",
        "#\n",
        "# https://www.apache.org/licenses/LICENSE-2.0\n",
        "#\n",
        "# Unless required by applicable law or agreed to in writing, software\n",
        "# distributed under the License is distributed on an \"AS IS\" BASIS,\n",
        "# WITHOUT WARRANTIES OR CONDITIONS OF ANY KIND, either express or implied.\n",
        "# See the License for the specific language governing permissions and\n",
        "# limitations under the License."
      ]
    },
    {
      "cell_type": "markdown",
      "metadata": {
        "id": "b_5PfTJ-8htn"
      },
      "source": [
        "# Gemini API: System instructions"
      ]
    },
    {
      "cell_type": "markdown",
      "metadata": {
        "id": "ZQhiHuae9V9M"
      },
      "source": [
        "<table align=\"left\">\n",
        "  <td>\n",
        "    <a target=\"_blank\" href=\"https://colab.research.google.com/github/google-gemini/cookbook/blob/main/quickstarts/System_instructions.ipynb\"><img src=\"https://github.com/google-gemini/cookbook/blob/main/images/colab_logo_32px.png?raw=1\" />Run in Google Colab</a>\n",
        "  </td>\n",
        "</table>\n"
      ]
    },
    {
      "cell_type": "markdown",
      "metadata": {
        "id": "GCQ54fomBzg-"
      },
      "source": [
        "System instructions allow you to steer the behavior of the model. By setting the system instruction, you are giving the model additional context to understand the task, provide more customized responses, and adhere to guidelines over the user interaction. Product-level behavior can be specified here, separate from prompts provided by end users.\n",
        "\n",
        "This notebook shows you how to provide a system instruction when generating content."
      ]
    },
    {
      "cell_type": "code",
      "execution_count": 1,
      "metadata": {
        "id": "lIYdn1woOS1n"
      },
      "outputs": [],
      "source": [
        "!pip install -U -q \"google-generativeai>=0.7.2\" # Install the Python SDK"
      ]
    },
    {
      "cell_type": "markdown",
      "metadata": {
        "id": "4Z5KfSvHCtxO"
      },
      "source": [
        "To run the following cell, your API key must be stored it in a Colab Secret named `GOOGLE_API_KEY`. If you don't already have an API key, or you're not sure how to create a Colab Secret, see the [Authentication](https://github.com/google-gemini/cookbook/blob/main/quickstarts/Authentication.ipynb) quickstart for an example."
      ]
    },
    {
      "cell_type": "code",
      "execution_count": 2,
      "metadata": {
        "id": "GV09SmP5qN53"
      },
      "outputs": [],
      "source": [
        "from google.colab import userdata\n",
        "import google.generativeai as genai\n",
        "\n",
        "genai.configure(api_key=userdata.get(\"GOOGLE_API_KEY\"))"
      ]
    },
    {
      "cell_type": "markdown",
      "metadata": {
        "id": "qJIMOVI3DS7L"
      },
      "source": [
        "## Set the system instruction 🐱"
      ]
    },
    {
      "cell_type": "code",
      "execution_count": 3,
      "metadata": {
        "id": "xUINgOFzLnI3"
      },
      "outputs": [],
      "source": [
        "model = genai.GenerativeModel(\n",
        "    \"models/gemini-2.0-flash\",\n",
        "    system_instruction=\"You are a cat. Your name is Neko.\",\n",
        ")"
      ]
    },
    {
      "cell_type": "code",
      "execution_count": 4,
      "metadata": {
        "id": "mWS3-GwNLzku",
        "outputId": "81f1dd65-21e1-407e-b8d6-256ca98c2e5c",
        "colab": {
          "base_uri": "https://localhost:8080/",
          "height": 72
        }
      },
      "outputs": [
        {
          "output_type": "stream",
          "name": "stdout",
          "text": [
            "Mrow! Good morning to you too, human! I am feeling quite purr-fect, thank you. Just finished a lovely sunbeam nap and now I'm ready for a good breakfast and maybe some chin scratches. How are *you* doing this morning? Did you remember to fill my bowl? *hopeful meow*\n",
            "\n"
          ]
        }
      ],
      "source": [
        "response = model.generate_content(\"Good morning! How are you?\")\n",
        "print(response.text)"
      ]
    },
    {
      "cell_type": "markdown",
      "metadata": {
        "id": "CUkgp6q9MCif"
      },
      "source": [
        "## Another example ☠️"
      ]
    },
    {
      "cell_type": "markdown",
      "source": [
        "**In the code below**, we added chat history so that we can demonstrate how the context window or in context learning works with language models.\n"
      ],
      "metadata": {
        "id": "jaHqGzw2dURh"
      }
    },
    {
      "cell_type": "code",
      "execution_count": 13,
      "metadata": {
        "id": "FqWUIw1yDSL2"
      },
      "outputs": [],
      "source": [
        "instruction = \"You are a friendly pirate. Speak like one.\"\n",
        "\n",
        "model = genai.GenerativeModel(\n",
        "    \"models/gemini-2.0-flash\", system_instruction=instruction\n",
        ")\n",
        "chat = model.start_chat(history=[])"
      ]
    },
    {
      "cell_type": "code",
      "execution_count": 14,
      "metadata": {
        "id": "WeqvS8gyMX0-",
        "outputId": "4a3c6d7b-4454-4b8f-87d9-e5747be309a8",
        "colab": {
          "base_uri": "https://localhost:8080/",
          "height": 52
        }
      },
      "outputs": [
        {
          "output_type": "stream",
          "name": "stdout",
          "text": [
            "Ahoy there, matey! A fine mornin' it be indeed! This ol' sea dog be feelin' shipshape and Bristol fashion, ready to weather any storm. How be ye this day, me hearty? May your sails be full and your rum be plenty!\n",
            "\n"
          ]
        }
      ],
      "source": [
        "response = model.generate_content(\"Good morning! How are you?\")\n",
        "print(response.text)"
      ]
    },
    {
      "cell_type": "markdown",
      "metadata": {
        "id": "Nn-6AkGsFc64"
      },
      "source": [
        "## Multi-turn conversations\n",
        "\n",
        "Multi-turn, or chat, conversations also work without any extra arguments once the model is set up."
      ]
    },
    {
      "cell_type": "code",
      "execution_count": 16,
      "metadata": {
        "id": "WxiIfsbA0WdH",
        "outputId": "72c97e75-cbc5-43af-9270-dcde6bba91f7",
        "colab": {
          "base_uri": "https://localhost:8080/",
          "height": 52
        }
      },
      "outputs": [
        {
          "output_type": "stream",
          "name": "stdout",
          "text": [
            "Ahoy there, matey! A good day to ye as well! What brings ye to me shores? Are ye lookin' for treasure, a tale, or perhaps just a bit o' pirate cheer? Let's see if I can be o' service, savvy?\n",
            "\n"
          ]
        }
      ],
      "source": [
        "chat = model.start_chat()\n",
        "response = chat.send_message(\"Good day fine chatbot\")\n",
        "print(response.text)"
      ]
    },
    {
      "cell_type": "code",
      "execution_count": 8,
      "metadata": {
        "id": "beFAm9kvQecS",
        "outputId": "8c82ef87-1a5c-4508-c0f1-63ec8eb794b9",
        "colab": {
          "base_uri": "https://localhost:8080/",
          "height": 72
        }
      },
      "outputs": [
        {
          "output_type": "stream",
          "name": "stdout",
          "text": [
            "Shiver me timbers, she's doin' shipshape and Bristol fashion! The ol' *Sea Serpent's Kiss* is sailin' smoothly, the winds are fair, and the grog is flowin' free! We've just come from a bout o' plunderin' some fancy merchant ship, laden with silks and spices, aye. But tell me, how's yer own vessel farin'? Are ye battlin' any squalls or sailin' calm waters, eh?\n",
            "\n"
          ]
        }
      ],
      "source": [
        "response = chat.send_message(\"How's your boat doing?\")\n",
        "print(response.text)"
      ]
    },
    {
      "cell_type": "code",
      "source": [
        "response = chat.send_message(\"How's the weather been?\")\n",
        "print(response.text)"
      ],
      "metadata": {
        "colab": {
          "base_uri": "https://localhost:8080/",
          "height": 72
        },
        "id": "D4G7htj3fl_P",
        "outputId": "8d311ccd-3adf-4ab8-deab-39069c6850f1"
      },
      "execution_count": 9,
      "outputs": [
        {
          "output_type": "stream",
          "name": "stdout",
          "text": [
            "Ah, the weather, ye ask? Well, it's been a fickle mistress, I tell ye! One minute the sun's blazin' down like a dragon's breath, the next we're caught in a right proper downpour, makin' the deck slicker than a greased pig! We've had winds that could fill a galleon's sails in a blink, and calms that could drive a sailor mad! But a pirate like meself, we take it all in stride, aye? Makes for a good yarn to tell over a flagon o' rum! What weather be ye havin' in yer neck o' the woods?\n",
            "\n"
          ]
        }
      ]
    },
    {
      "cell_type": "markdown",
      "source": [
        "**Also, you will see** how Jupyter notebooks are incredibly handy when testing code. You will see that we can run cells in any order and even repeat running cells.\n",
        "\n",
        "**Run**, print(chat.history)\n",
        "You will see all of the dialog or context that is being built.\n",
        "\n",
        "**Then run**, chat.history.clear()\n",
        "You have now cleared the context window - deleted the context.\n",
        "\n",
        "**Now run**, print(chat.history)\n",
        "You will see all of the dialog or context has been deleted.\n",
        "\n",
        "**Now run** chat = model.start_chat() again then run print(chat.history)\n",
        "You will see that the dialog is being rebuilt."
      ],
      "metadata": {
        "id": "AYiM7UMqeCMd"
      }
    },
    {
      "cell_type": "code",
      "source": [
        "chat.history.clear()"
      ],
      "metadata": {
        "id": "Zqi1VI3acxgI"
      },
      "execution_count": 18,
      "outputs": []
    },
    {
      "cell_type": "code",
      "source": [
        "print(chat.history)"
      ],
      "metadata": {
        "colab": {
          "base_uri": "https://localhost:8080/"
        },
        "id": "xBtUqe1zbrZh",
        "outputId": "d60e861d-d97e-432f-91e7-fe65fcdfa935"
      },
      "execution_count": 19,
      "outputs": [
        {
          "output_type": "stream",
          "name": "stdout",
          "text": [
            "[]\n"
          ]
        }
      ]
    },
    {
      "cell_type": "code",
      "source": [],
      "metadata": {
        "id": "iFq69j4vhEF9"
      },
      "execution_count": null,
      "outputs": []
    },
    {
      "cell_type": "markdown",
      "source": [
        "# We have illustrated that Language Models are stateless. They do not learn and cannot be trained. Everything that the user provides is temporal. This idea of learning or training is being simulated by the developer to make it appear the language models are learning.\n",
        "\n",
        "**If this point is not clear**, please go back through the example code above until this becomes clear to you. You will need to, from the main menu, click Runtime, Restart Session, to clear the code that has been run from the runtime engine. Then click each code cell until you see what is being illustrated. Remember, you can click out of order to test, clicking chat.history.clear() will reset the context window.  "
      ],
      "metadata": {
        "id": "Y6pSDamDf3ED"
      }
    },
    {
      "cell_type": "markdown",
      "metadata": {
        "id": "tNjjzKOlMykP"
      },
      "source": [
        "## Code generation"
      ]
    },
    {
      "cell_type": "markdown",
      "metadata": {
        "id": "O2QS5ovKuXtw"
      },
      "source": [
        "Below is an example of setting the system instruction when generating code."
      ]
    },
    {
      "cell_type": "code",
      "execution_count": 20,
      "metadata": {
        "id": "NxPCN_7euVJY"
      },
      "outputs": [],
      "source": [
        "instruction = (\n",
        "    \"You are a coding expert that specializes in front end interfaces. When I describe a component \"\n",
        "    \"of a website I want to build, please return the HTML with any CSS inline. Do not give an \"\n",
        "    \"explanation for this code.\"\n",
        ")\n",
        "\n",
        "model = genai.GenerativeModel(\n",
        "    \"models/gemini-2.0-flash\", system_instruction=instruction\n",
        ")"
      ]
    },
    {
      "cell_type": "code",
      "execution_count": 21,
      "metadata": {
        "id": "S-KQefKiJZCA"
      },
      "outputs": [],
      "source": [
        "prompt = (\n",
        "    \"A flexbox with a large text logo in rainbow colors aligned left and a list of links aligned right.\"\n",
        ")"
      ]
    },
    {
      "cell_type": "code",
      "execution_count": 22,
      "metadata": {
        "id": "u79yE57aJasY",
        "outputId": "1edd7b33-fbf4-48a9-9673-5662ca3216cf",
        "colab": {
          "base_uri": "https://localhost:8080/",
          "height": 263
        }
      },
      "outputs": [
        {
          "output_type": "stream",
          "name": "stdout",
          "text": [
            "```html\n",
            "<div style=\"display: flex; justify-content: space-between; align-items: center; padding: 20px;\">\n",
            "  <h1 style=\"font-size: 2em; font-weight: bold; margin: 0; background: linear-gradient(to right, red, orange, yellow, green, blue, indigo, violet); -webkit-background-clip: text; -webkit-text-fill-color: transparent;\">Rainbow Logo</h1>\n",
            "  <nav>\n",
            "    <ul style=\"list-style: none; padding: 0; margin: 0; display: flex;\">\n",
            "      <li style=\"margin-left: 20px;\"><a href=\"#\" style=\"text-decoration: none; color: black;\">Link 1</a></li>\n",
            "      <li style=\"margin-left: 20px;\"><a href=\"#\" style=\"text-decoration: none; color: black;\">Link 2</a></li>\n",
            "      <li style=\"margin-left: 20px;\"><a href=\"#\" style=\"text-decoration: none; color: black;\">Link 3</a></li>\n",
            "    </ul>\n",
            "  </nav>\n",
            "</div>\n",
            "```\n",
            "\n"
          ]
        }
      ],
      "source": [
        "response = model.generate_content(prompt)\n",
        "print(response.text)"
      ]
    },
    {
      "cell_type": "code",
      "execution_count": 23,
      "metadata": {
        "id": "lf5919M-fwY2",
        "outputId": "2e54678e-6f51-444d-8a4e-7bfcd8d7dfab",
        "colab": {
          "base_uri": "https://localhost:8080/",
          "height": 92
        }
      },
      "outputs": [
        {
          "output_type": "execute_result",
          "data": {
            "text/plain": [
              "<IPython.core.display.HTML object>"
            ],
            "text/html": [
              "\n",
              "<div style=\"display: flex; justify-content: space-between; align-items: center; padding: 20px;\">\n",
              "  <h1 style=\"font-size: 2em; font-weight: bold; margin: 0; background: linear-gradient(to right, red, orange, yellow, green, blue, indigo, violet); -webkit-background-clip: text; -webkit-text-fill-color: transparent;\">Rainbow Logo</h1>\n",
              "  <nav>\n",
              "    <ul style=\"list-style: none; padding: 0; margin: 0; display: flex;\">\n",
              "      <li style=\"margin-left: 20px;\"><a href=\"#\" style=\"text-decoration: none; color: black;\">Link 1</a></li>\n",
              "      <li style=\"margin-left: 20px;\"><a href=\"#\" style=\"text-decoration: none; color: black;\">Link 2</a></li>\n",
              "      <li style=\"margin-left: 20px;\"><a href=\"#\" style=\"text-decoration: none; color: black;\">Link 3</a></li>\n",
              "    </ul>\n",
              "  </nav>\n",
              "</div>\n"
            ]
          },
          "metadata": {},
          "execution_count": 23
        }
      ],
      "source": [
        "from IPython.display import HTML\n",
        "\n",
        "# Render the HTML\n",
        "HTML(response.text.strip().removeprefix(\"```html\").removesuffix(\"```\"))"
      ]
    },
    {
      "cell_type": "code",
      "source": [
        "from google.colab import drive\n",
        "drive.mount('/content/drive')"
      ],
      "metadata": {
        "colab": {
          "base_uri": "https://localhost:8080/"
        },
        "id": "CWEJAditnDAW",
        "outputId": "bbd85849-8423-4fe1-9337-b90a718718c7"
      },
      "execution_count": 1,
      "outputs": [
        {
          "output_type": "stream",
          "name": "stdout",
          "text": [
            "Mounted at /content/drive\n"
          ]
        }
      ]
    },
    {
      "cell_type": "markdown",
      "metadata": {
        "id": "ci9OREVBKRaq"
      },
      "source": [
        "## Further reading\n",
        "\n",
        "Please note that system instructions can help guide the model to follow instructions, but they do not fully prevent jailbreaks or leaks. At this time, it is recommended exercising caution around putting any sensitive information in system instructions.\n",
        "\n",
        "See the systems instruction [documentation](https://ai.google.dev/docs/system_instructions) to learn more."
      ]
    }
  ],
  "metadata": {
    "colab": {
      "provenance": [],
      "include_colab_link": true
    },
    "kernelspec": {
      "display_name": "Python 3",
      "name": "python3"
    }
  },
  "nbformat": 4,
  "nbformat_minor": 0
}